{
 "cells": [
  {
   "cell_type": "markdown",
   "metadata": {},
   "source": [
    "### Cào Tất cả sản phẩm"
   ]
  },
  {
   "cell_type": "code",
   "execution_count": null,
   "metadata": {},
   "outputs": [
    {
     "name": "stderr",
     "output_type": "stream",
     "text": [
      "Đang lấy thông tin sản phẩm: 100%|██████████| 45/45 [00:06<00:00,  6.68it/s]\n"
     ]
    }
   ],
   "source": [
    "import requests\n",
    "from bs4 import BeautifulSoup\n",
    "import pandas as pd\n",
    "from tqdm import tqdm\n",
    "\n",
    "tat_ca_sp = []\n",
    "tat_ca_sp_url = 'https://mailisa.com/san-pham-mailisa'\n",
    "tat_ca_sp_response = requests.get(tat_ca_sp_url)\n",
    "tat_ca_sp_soup = BeautifulSoup(tat_ca_sp_response.text, 'html.parser')\n",
    "\n",
    "# Tìm tất cả các thẻ <div> có class \"product_new_item\" trong trang\n",
    "product_new_items = tat_ca_sp_soup.find_all('div', class_='product_new_item')\n",
    "\n",
    "# Duyệt qua từng sản phẩm\n",
    "for item in tqdm(product_new_items, desc='Đang lấy thông tin sản phẩm'):\n",
    "    # lấy link image sản phẩm\n",
    "    image_tag = item.find('img')\n",
    "    image_url = image_tag['src']\n",
    "    # lấy thẻ <a> chứa link chi tiết sản phẩm\n",
    "    link_tag = item.find('a')\n",
    "    # truy cập vào link chi tiết sản phẩm\n",
    "    link_buy = link_tag['href']\n",
    "    sp_response = requests.get(link_buy)\n",
    "    sp_soup = BeautifulSoup(sp_response.text, 'html.parser')\n",
    "    # lấy thẻ h1 có class là \"product_title\"\n",
    "    title_tag = sp_soup.find('h1', class_='product_title')\n",
    "    sp_name = title_tag.text.strip()\n",
    "    # lấy thẻ <div> có class là \"product_sku\"\n",
    "    product_sku_tag = sp_soup.find('div', class_='product_sku')\n",
    "    sp_sku = None\n",
    "    if product_sku_tag:\n",
    "        # tìm thẻ <span> có class là \"sku\"\n",
    "        sku_tag = product_sku_tag.find('span', class_='sku')\n",
    "        if sku_tag:\n",
    "            sp_sku = sku_tag.text.strip()\n",
    "    # lấy thẻ <div> có class là \"product_description\"\n",
    "    description_tag = sp_soup.find('div', class_='product_description')\n",
    "    sp_description = description_tag.text.strip()\n",
    "    # lấy thẻ <p> có class là \"product_price\"\n",
    "    price_tag = sp_soup.find('p', class_='product_price')\n",
    "    # tìm thẻ <del> trong thẻ <p> để lấy giá cũ\n",
    "    old_price_tag = price_tag.find('del')\n",
    "    if old_price_tag:\n",
    "        sp_old_price = old_price_tag.text.strip()\n",
    "    else:\n",
    "        sp_old_price = None\n",
    "    # lấy giá mới\n",
    "    new_price_tag = price_tag.find('ins')\n",
    "    sp_new_price = new_price_tag.text.strip()\n",
    "\n",
    "    # lấy thẻ <div> có class là \"product_tabs\"\n",
    "    product_tabs_tag = sp_soup.find('div', class_='product_tabs')\n",
    "    # lấy thẻ <div> có class là \"tabs_content\" trong thẻ <div> này\n",
    "    tabs_content_tag = product_tabs_tag.find('div', class_='tabs_content')\n",
    "    # lấy thẻ <div> có class là \"content_post\" trong thẻ <div> này\n",
    "    content_post_tag = tabs_content_tag.find('div', class_='content_post')\n",
    "    \n",
    "    if content_post_tag:\n",
    "        # Chuyển nội dung HTML thành chuỗi và parse bằng BeautifulSoup\n",
    "        content_post_soup = BeautifulSoup(content_post_tag.decode_contents(), \"html.parser\")\n",
    "\n",
    "        # Loại bỏ thẻ inline nhưng giữ nguyên nội dung\n",
    "        for tag in content_post_soup.find_all(['b', 'strong', 'span']):\n",
    "            tag.unwrap()\n",
    "\n",
    "        # Tìm thẻ <hr> cuối cùng\n",
    "        last_hr = content_post_soup.find_all('hr')[-1] if content_post_soup.find('hr') else None\n",
    "\n",
    "        # Nếu có <hr>, xóa toàn bộ nội dung sau nó\n",
    "        if last_hr:\n",
    "            for tag in last_hr.find_all_next():\n",
    "                tag.decompose()  # Xóa hoàn toàn các thẻ sau <hr> cuối cùng\n",
    "\n",
    "            last_hr.decompose()  # Xóa luôn thẻ <hr> cuối cùng nếu không muốn giữ lại\n",
    "\n",
    "        # Lấy nội dung từ các thẻ block, mỗi thẻ xuống dòng\n",
    "        blocks = [block.get_text(separator=' ').strip() for block in content_post_soup.find_all(['p', 'div', 'li'])]\n",
    "\n",
    "        # Kết hợp lại thành chuỗi, mỗi đoạn văn tách nhau bằng dấu xuống dòng\n",
    "        sp_detail = '\\n'.join(blocks).strip()\n",
    "    \n",
    "    # Lưu thông tin sản phẩm vào danh sách\n",
    "    tat_ca_sp.append({\n",
    "        'Tên bộ sản phẩm': sp_name,\n",
    "        'Mã SKU': sp_sku,\n",
    "        'Mô tả sơ bộ': sp_description,\n",
    "        'Giá gốc': sp_old_price,\n",
    "        'Giá ưu đãi': sp_new_price,\n",
    "        'Link ảnh': image_url,\n",
    "        'Link mua hàng': link_buy,\n",
    "        'Mô tả chi tiết': sp_detail\n",
    "    })\n",
    "\n",
    "# Chuyển đổi danh sách thành DataFrame\n",
    "df = pd.DataFrame(tat_ca_sp)\n",
    "# Xuất DataFrame ra file csv\n",
    "df.to_csv('products.csv', index=False, encoding='utf-8-sig')\n"
   ]
  },
  {
   "cell_type": "markdown",
   "metadata": {},
   "source": [
    "### Cào "
   ]
  },
  {
   "cell_type": "code",
   "execution_count": null,
   "metadata": {},
   "outputs": [
    {
     "name": "stdout",
     "output_type": "stream",
     "text": []
    }
   ],
   "source": [
    "import duckdb\n",
    "\n",
    "# Sửa cú pháp truy vấn để sử dụng LIKE hoặc regex_match trong DuckDB\n",
    "query = \"SELECT * FROM 'products.csv' WHERE name LIKE '%mụn%'\"\n",
    "df_filtered = duckdb.query(query).to_df()\n",
    "\n",
    "print(df_filtered)"
   ]
  },
  {
   "cell_type": "code",
   "execution_count": null,
   "metadata": {},
   "outputs": [],
   "source": []
  }
 ],
 "metadata": {
  "kernelspec": {
   "display_name": "grad",
   "language": "python",
   "name": "python3"
  },
  "language_info": {
   "codemirror_mode": {
    "name": "ipython",
    "version": 3
   },
   "file_extension": ".py",
   "mimetype": "text/x-python",
   "name": "python",
   "nbconvert_exporter": "python",
   "pygments_lexer": "ipython3",
   "version": "3.11.11"
  }
 },
 "nbformat": 4,
 "nbformat_minor": 2
}
